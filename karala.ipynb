{
 "cells": [
  {
   "cell_type": "code",
   "execution_count": 13,
   "metadata": {},
   "outputs": [
    {
     "name": "stdout",
     "output_type": "stream",
     "text": [
      "Example:\n",
      "None\n"
     ]
    },
    {
     "ename": "AssertionError",
     "evalue": "",
     "output_type": "error",
     "traceback": [
      "\u001b[1;31m---------------------------------------------------------------------------\u001b[0m",
      "\u001b[1;31mAssertionError\u001b[0m                            Traceback (most recent call last)",
      "\u001b[1;32mc:\\Users\\user\\OneDrive\\Paylaşılan sık kullanılanlar\\PYTHON\\&PYTHON\\karala.ipynb Hücre 1\u001b[0m in \u001b[0;36m<cell line: 10>\u001b[1;34m()\u001b[0m\n\u001b[0;32m     <a href='vscode-notebook-cell:/c%3A/Users/user/OneDrive/Payla%C5%9F%C4%B1lan%20s%C4%B1k%20kullan%C4%B1lanlar/PYTHON/%26PYTHON/karala.ipynb#ch0000000?line=11'>12</a>\u001b[0m \u001b[39mprint\u001b[39m(first_word(\u001b[39m\"\u001b[39m\u001b[39mHello world\u001b[39m\u001b[39m\"\u001b[39m))\n\u001b[0;32m     <a href='vscode-notebook-cell:/c%3A/Users/user/OneDrive/Payla%C5%9F%C4%B1lan%20s%C4%B1k%20kullan%C4%B1lanlar/PYTHON/%26PYTHON/karala.ipynb#ch0000000?line=13'>14</a>\u001b[0m \u001b[39m# These \"asserts\" are used for self-checking and not for an auto-testing\u001b[39;00m\n\u001b[1;32m---> <a href='vscode-notebook-cell:/c%3A/Users/user/OneDrive/Payla%C5%9F%C4%B1lan%20s%C4%B1k%20kullan%C4%B1lanlar/PYTHON/%26PYTHON/karala.ipynb#ch0000000?line=14'>15</a>\u001b[0m \u001b[39massert\u001b[39;00m first_word(\u001b[39m\"\u001b[39m\u001b[39mHello world\u001b[39m\u001b[39m\"\u001b[39m) \u001b[39m==\u001b[39m \u001b[39m\"\u001b[39m\u001b[39mHello\u001b[39m\u001b[39m\"\u001b[39m\n\u001b[0;32m     <a href='vscode-notebook-cell:/c%3A/Users/user/OneDrive/Payla%C5%9F%C4%B1lan%20s%C4%B1k%20kullan%C4%B1lanlar/PYTHON/%26PYTHON/karala.ipynb#ch0000000?line=15'>16</a>\u001b[0m \u001b[39massert\u001b[39;00m first_word(\u001b[39m\"\u001b[39m\u001b[39m a word \u001b[39m\u001b[39m\"\u001b[39m) \u001b[39m==\u001b[39m \u001b[39m\"\u001b[39m\u001b[39ma\u001b[39m\u001b[39m\"\u001b[39m\n\u001b[0;32m     <a href='vscode-notebook-cell:/c%3A/Users/user/OneDrive/Payla%C5%9F%C4%B1lan%20s%C4%B1k%20kullan%C4%B1lanlar/PYTHON/%26PYTHON/karala.ipynb#ch0000000?line=16'>17</a>\u001b[0m \u001b[39massert\u001b[39;00m first_word(\u001b[39m\"\u001b[39m\u001b[39mdon\u001b[39m\u001b[39m'\u001b[39m\u001b[39mt touch it\u001b[39m\u001b[39m\"\u001b[39m) \u001b[39m==\u001b[39m \u001b[39m\"\u001b[39m\u001b[39mdon\u001b[39m\u001b[39m'\u001b[39m\u001b[39mt\u001b[39m\u001b[39m\"\u001b[39m\n",
      "\u001b[1;31mAssertionError\u001b[0m: "
     ]
    }
   ],
   "source": [
    "def first_word(text: str) -> str:\n",
    "    for i in text.split('.'):\n",
    "        if i == True:\n",
    "            return i\n",
    "            break\n",
    "        # else:\n",
    "            \n",
    "\n",
    "\n",
    "if __name__ == '__main__':\n",
    "    print(\"Example:\")\n",
    "    print(first_word(\"Hello world\"))\n",
    "    \n",
    "    # These \"asserts\" are used for self-checking and not for an auto-testing\n",
    "    assert first_word(\"Hello world\") == \"Hello\"\n",
    "    assert first_word(\" a word \") == \"a\"\n",
    "    assert first_word(\"don't touch it\") == \"don't\"\n",
    "    assert first_word(\"greetings, friends\") == \"greetings\"\n",
    "    assert first_word(\"... and so on ...\") == \"and\"\n",
    "    assert first_word(\"hi\") == \"hi\"\n",
    "    assert first_word(\"Hello.World\") == \"Hello\"\n",
    "    print(\"Coding complete? Click 'Check' to earn cool rewards!\")"
   ]
  },
  {
   "cell_type": "code",
   "execution_count": 25,
   "metadata": {},
   "outputs": [],
   "source": [
    "def first_word(text: str) -> str:\n",
    "    return text.replace(\".\",\" \").replace(\",\",\" \").split(maxsplit=1)[0]"
   ]
  },
  {
   "cell_type": "code",
   "execution_count": null,
   "metadata": {},
   "outputs": [],
   "source": []
  },
  {
   "cell_type": "code",
   "execution_count": 27,
   "metadata": {},
   "outputs": [
    {
     "data": {
      "text/plain": [
       "'and'"
      ]
     },
     "execution_count": 27,
     "metadata": {},
     "output_type": "execute_result"
    }
   ],
   "source": [
    "first_word(\"..., and so on ...\")"
   ]
  },
  {
   "cell_type": "code",
   "execution_count": 39,
   "metadata": {},
   "outputs": [
    {
     "data": {
      "text/plain": [
       "['Hello', 'World  jkjjjk']"
      ]
     },
     "execution_count": 39,
     "metadata": {},
     "output_type": "execute_result"
    }
   ],
   "source": [
    "\"Hello.World .jkjjjk\".replace(\".\",\" \").split(maxsplit=1)"
   ]
  },
  {
   "cell_type": "code",
   "execution_count": 23,
   "metadata": {},
   "outputs": [
    {
     "data": {
      "text/plain": [
       "['...', 'and', 'so', 'on', '...']"
      ]
     },
     "execution_count": 23,
     "metadata": {},
     "output_type": "execute_result"
    }
   ],
   "source": [
    "\"... and so on ...\".split()"
   ]
  },
  {
   "cell_type": "code",
   "execution_count": null,
   "metadata": {},
   "outputs": [],
   "source": [
    "['...', 'and', 'so', 'on', '...']"
   ]
  },
  {
   "cell_type": "code",
   "execution_count": 41,
   "metadata": {},
   "outputs": [],
   "source": [
    "tatlılar = {\"ice-cream\":30,\n",
    "            \"Brovni\":40,\n",
    "            \"chesscake\":15}"
   ]
  },
  {
   "cell_type": "code",
   "execution_count": 43,
   "metadata": {},
   "outputs": [
    {
     "data": {
      "text/plain": [
       "{'chesscake': 15, 'ice-cream': 30, 'Brovni': 40}"
      ]
     },
     "execution_count": 43,
     "metadata": {},
     "output_type": "execute_result"
    }
   ],
   "source": [
    "tatlılar = dict(sorted(tatlılar.items(), key = lambda item:item[1]))\n",
    "tatlılar"
   ]
  },
  {
   "cell_type": "code",
   "execution_count": null,
   "metadata": {},
   "outputs": [],
   "source": []
  },
  {
   "cell_type": "code",
   "execution_count": null,
   "metadata": {},
   "outputs": [],
   "source": []
  }
 ],
 "metadata": {
  "kernelspec": {
   "display_name": "Python 3.10.5 64-bit",
   "language": "python",
   "name": "python3"
  },
  "language_info": {
   "codemirror_mode": {
    "name": "ipython",
    "version": 3
   },
   "file_extension": ".py",
   "mimetype": "text/x-python",
   "name": "python",
   "nbconvert_exporter": "python",
   "pygments_lexer": "ipython3",
   "version": "3.10.5"
  },
  "orig_nbformat": 4,
  "vscode": {
   "interpreter": {
    "hash": "fb4569285eef3a3450cb62085a5b1e0da4bce0af555edc33dcf29baf3acc1368"
   }
  }
 },
 "nbformat": 4,
 "nbformat_minor": 2
}
