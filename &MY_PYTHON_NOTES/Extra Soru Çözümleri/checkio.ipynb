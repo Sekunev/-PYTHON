{
 "cells": [
  {
   "cell_type": "code",
   "execution_count": 2,
   "metadata": {},
   "outputs": [
    {
     "name": "stdout",
     "output_type": "stream",
     "text": [
      "Example:\n",
      "[{'name': 'wine', 'price': 138}, {'name': 'bread', 'price': 100}]\n",
      "Done! Looks like it is fine. Go and check it\n"
     ]
    }
   ],
   "source": [
    "def bigger_price(limit: int, data: list) -> list:\n",
    "    \"\"\"\n",
    "        TOP most expensive goods\n",
    "    \"\"\"\n",
    "    \n",
    "    return sorted(data, key=lambda x: x['price'], reverse=True)[:limit]\n",
    "\n",
    "\n",
    "if __name__ == '__main__':\n",
    "    from pprint import pprint\n",
    "    print('Example:')\n",
    "    pprint(bigger_price(2, [\n",
    "        {\"name\": \"bread\", \"price\": 100},\n",
    "        {\"name\": \"wine\", \"price\": 138},\n",
    "        {\"name\": \"meat\", \"price\": 15},\n",
    "        {\"name\": \"water\", \"price\": 1}\n",
    "    ]))\n",
    "\n",
    "    # These \"asserts\" using for self-checking and not for auto-testing\n",
    "    assert bigger_price(2, [\n",
    "        {\"name\": \"bread\", \"price\": 100},\n",
    "        {\"name\": \"wine\", \"price\": 138},\n",
    "        {\"name\": \"meat\", \"price\": 15},\n",
    "        {\"name\": \"water\", \"price\": 1}\n",
    "    ]) == [\n",
    "        {\"name\": \"wine\", \"price\": 138},\n",
    "        {\"name\": \"bread\", \"price\": 100}\n",
    "    ], \"First\"\n",
    "\n",
    "    assert bigger_price(1, [\n",
    "        {\"name\": \"pen\", \"price\": 5},\n",
    "        {\"name\": \"whiteboard\", \"price\": 170}\n",
    "    ]) == [{\"name\": \"whiteboard\", \"price\": 170}], \"Second\"\n",
    "\n",
    "    print('Done! Looks like it is fine. Go and check it')"
   ]
  },
  {
   "cell_type": "code",
   "execution_count": null,
   "metadata": {},
   "outputs": [],
   "source": [
    "def between_markers(text: str, begin: str, end: str) -> str:\n",
    "    \"\"\"\n",
    "        returns substring between two given markers\n",
    "    \"\"\"\n",
    "    b = text.index(begin)+len(begin) if begin in text else 0\n",
    "    e = text.index(end) if end in text else len(text)\n",
    "    \n",
    "    return text[b:e]\n",
    "    # lambdalı cözüm return etiyor..\n",
    "    # between_markers = lambda text, begin, end: text[text.index(begin)+len(begin) if begin in text else 0: text.index(end) if end in text else len(text)]\n",
    "\n",
    "    \n",
    "\n",
    "if __name__ == '__main__':\n",
    "    print('Example:')\n",
    "    print(between_markers('What is >apple<', '>', '<'))\n",
    "\n",
    "    # These \"asserts\" are used for self-checking and not for testing\n",
    "    assert between_markers('What is >apple<', '>', '<') == \"apple\", \"One sym\"\n",
    "    assert between_markers(\"<head><title>My new site</title></head>\",\n",
    "                           \"<title>\", \"</title>\") == \"My new site\", \"HTML\"\n",
    "    assert between_markers('No[/b] hi', '[b]', '[/b]') == 'No', 'No opened'\n",
    "    assert between_markers('No [b]hi', '[b]', '[/b]') == 'hi', 'No close'\n",
    "    assert between_markers('No hi', '[b]', '[/b]') == 'No hi', 'No markers at all'\n",
    "    assert between_markers('No <hi>', '>', '<') == '', 'Wrong direction'\n",
    "    print('Wow, you are doing pretty good. Time to check it!')"
   ]
  },
  {
   "cell_type": "code",
   "execution_count": 40,
   "metadata": {},
   "outputs": [
    {
     "name": "stdout",
     "output_type": "stream",
     "text": [
      "Example:\n",
      "{'i': 4, 'was': 3, 'three': 0, 'near': 0}\n",
      "Coding complete? Click 'Check' to earn cool rewards!\n"
     ]
    }
   ],
   "source": [
    "def popular_words(text: str, words: list) -> dict:\n",
    "    dicti = {}\n",
    "    for i in words:\n",
    "        dicti[i] = 0\n",
    "\n",
    "    for j in text.lower().split():\n",
    "        if j in dicti:     \n",
    "            dicti[j] +=1\n",
    "\n",
    "    return dicti\n",
    "\n",
    "\n",
    "if __name__ == '__main__':\n",
    "    print(\"Example:\")\n",
    "    print(popular_words('''\n",
    "When I was One\n",
    "I had just begun\n",
    "When I was Two\n",
    "I was nearly new\n",
    "''', ['i', 'was', 'three', 'near']))\n",
    "\n",
    "    # These \"asserts\" are used for self-checking and not for an auto-testing\n",
    "    assert popular_words('''\n",
    "When I was One\n",
    "I had just begun\n",
    "When I was Two\n",
    "I was nearly new\n",
    "''', ['i', 'was', 'three', 'near']) == {\n",
    "        'i': 4,\n",
    "        'was': 3,\n",
    "        'three': 0,\n",
    "        'near': 0\n",
    "    }\n",
    "    print(\"Coding complete? Click 'Check' to earn cool rewards!\")\n"
   ]
  },
  {
   "cell_type": "code",
   "execution_count": 17,
   "metadata": {},
   "outputs": [
    {
     "data": {
      "text/plain": [
       "{'i': 0, 'was': 0, 'three': 0, 'near': 0}"
      ]
     },
     "execution_count": 17,
     "metadata": {},
     "output_type": "execute_result"
    }
   ],
   "source": [
    "dicti = {}\n",
    "for i in ['i', 'was', 'three', 'near']:\n",
    "    dicti[i] = 0\n",
    "\n",
    "\n",
    "dicti"
   ]
  },
  {
   "cell_type": "code",
   "execution_count": 39,
   "metadata": {},
   "outputs": [
    {
     "data": {
      "text/plain": [
       "{'i': 4, 'was': 3, 'three': 0, 'near': 0}"
      ]
     },
     "execution_count": 39,
     "metadata": {},
     "output_type": "execute_result"
    }
   ],
   "source": [
    "text = '''\n",
    "When I was One\n",
    "I had just begun\n",
    "When I was Two\n",
    "I was nearly new\n",
    "'''\n",
    "dicti = {}\n",
    "for i in ['i', 'was', 'three', 'near']:\n",
    "    dicti[i] = 0\n",
    "\n",
    "for j in text.lower().split():\n",
    "    if j in dicti:     \n",
    "        dicti[j] +=1\n",
    "\n",
    "dicti"
   ]
  },
  {
   "cell_type": "code",
   "execution_count": null,
   "metadata": {},
   "outputs": [],
   "source": []
  }
 ],
 "metadata": {
  "kernelspec": {
   "display_name": "Python 3.10.5 64-bit",
   "language": "python",
   "name": "python3"
  },
  "language_info": {
   "codemirror_mode": {
    "name": "ipython",
    "version": 3
   },
   "file_extension": ".py",
   "mimetype": "text/x-python",
   "name": "python",
   "nbconvert_exporter": "python",
   "pygments_lexer": "ipython3",
   "version": "3.10.5"
  },
  "orig_nbformat": 4,
  "vscode": {
   "interpreter": {
    "hash": "fb4569285eef3a3450cb62085a5b1e0da4bce0af555edc33dcf29baf3acc1368"
   }
  }
 },
 "nbformat": 4,
 "nbformat_minor": 2
}
