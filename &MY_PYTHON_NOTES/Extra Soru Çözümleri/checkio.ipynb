{
 "cells": [
  {
   "cell_type": "code",
   "execution_count": 2,
   "metadata": {},
   "outputs": [
    {
     "name": "stdout",
     "output_type": "stream",
     "text": [
      "Example:\n",
      "[{'name': 'wine', 'price': 138}, {'name': 'bread', 'price': 100}]\n",
      "Done! Looks like it is fine. Go and check it\n"
     ]
    }
   ],
   "source": [
    "def bigger_price(limit: int, data: list) -> list:\n",
    "    \"\"\"\n",
    "        TOP most expensive goods\n",
    "    \"\"\"\n",
    "    \n",
    "    return sorted(data, key=lambda x: x['price'], reverse=True)[:limit]\n",
    "\n",
    "\n",
    "if __name__ == '__main__':\n",
    "    from pprint import pprint\n",
    "    print('Example:')\n",
    "    pprint(bigger_price(2, [\n",
    "        {\"name\": \"bread\", \"price\": 100},\n",
    "        {\"name\": \"wine\", \"price\": 138},\n",
    "        {\"name\": \"meat\", \"price\": 15},\n",
    "        {\"name\": \"water\", \"price\": 1}\n",
    "    ]))\n",
    "\n",
    "    # These \"asserts\" using for self-checking and not for auto-testing\n",
    "    assert bigger_price(2, [\n",
    "        {\"name\": \"bread\", \"price\": 100},\n",
    "        {\"name\": \"wine\", \"price\": 138},\n",
    "        {\"name\": \"meat\", \"price\": 15},\n",
    "        {\"name\": \"water\", \"price\": 1}\n",
    "    ]) == [\n",
    "        {\"name\": \"wine\", \"price\": 138},\n",
    "        {\"name\": \"bread\", \"price\": 100}\n",
    "    ], \"First\"\n",
    "\n",
    "    assert bigger_price(1, [\n",
    "        {\"name\": \"pen\", \"price\": 5},\n",
    "        {\"name\": \"whiteboard\", \"price\": 170}\n",
    "    ]) == [{\"name\": \"whiteboard\", \"price\": 170}], \"Second\"\n",
    "\n",
    "    print('Done! Looks like it is fine. Go and check it')"
   ]
  }
 ],
 "metadata": {
  "kernelspec": {
   "display_name": "Python 3.10.5 64-bit",
   "language": "python",
   "name": "python3"
  },
  "language_info": {
   "codemirror_mode": {
    "name": "ipython",
    "version": 3
   },
   "file_extension": ".py",
   "mimetype": "text/x-python",
   "name": "python",
   "nbconvert_exporter": "python",
   "pygments_lexer": "ipython3",
   "version": "3.10.5"
  },
  "orig_nbformat": 4,
  "vscode": {
   "interpreter": {
    "hash": "fb4569285eef3a3450cb62085a5b1e0da4bce0af555edc33dcf29baf3acc1368"
   }
  }
 },
 "nbformat": 4,
 "nbformat_minor": 2
}
