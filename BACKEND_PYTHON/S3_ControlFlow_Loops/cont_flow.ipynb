{
 "cells": [
  {
   "cell_type": "code",
   "execution_count": 4,
   "metadata": {},
   "outputs": [
    {
     "name": "stdout",
     "output_type": "stream",
     "text": [
      "You cant make burger with this..\n"
     ]
    }
   ],
   "source": [
    "# Make a burger\n",
    "\n",
    "meat = False\n",
    "bread = True\n",
    "lettuce = False\n",
    "pepper = True\n",
    "grocery = True\n",
    "\n",
    "hamburger = (meat and bread and grocery) and (lettuce or pepper) \n",
    "\n",
    "if hamburger:\n",
    "    print('Bon Appetit')\n",
    "else:\n",
    "    print('You cant make burger with this..')"
   ]
  },
  {
   "cell_type": "code",
   "execution_count": 5,
   "metadata": {},
   "outputs": [
    {
     "name": "stdout",
     "output_type": "stream",
     "text": [
      "Equal!\n"
     ]
    }
   ],
   "source": [
    "a = set('TWELVE PLUS ONE')\n",
    "b = set('ELEVEN PLUS TWO')\n",
    "\n",
    "\n",
    "if a == b:\n",
    "    print('Equal!')"
   ]
  },
  {
   "cell_type": "code",
   "execution_count": 6,
   "metadata": {},
   "outputs": [
    {
     "name": "stdout",
     "output_type": "stream",
     "text": [
      "ok\n"
     ]
    }
   ],
   "source": [
    "course = ' ClArusWay   '\n",
    "\n",
    "if course.strip().title() == 'Clarusway':\n",
    "    print('ok')\n",
    "else:\n",
    "    print('not ok')"
   ]
  },
  {
   "cell_type": "code",
   "execution_count": 1,
   "metadata": {},
   "outputs": [
    {
     "name": "stdout",
     "output_type": "stream",
     "text": [
      "6 is even.\n"
     ]
    }
   ],
   "source": [
    "num = int(input('Please enter a number: '))\n",
    "\n",
    "if num % 2:\n",
    "    print(f'{num} is odd.')\n",
    "else:\n",
    "    print(f'{num} is even.')\n",
    "    "
   ]
  },
  {
   "cell_type": "code",
   "execution_count": 2,
   "metadata": {},
   "outputs": [
    {
     "name": "stdout",
     "output_type": "stream",
     "text": [
      "52 is the biggest\n"
     ]
    }
   ],
   "source": [
    "num1 = int(input('Please enter a number: '))\n",
    "num2 = int(input('Please enter a number: '))\n",
    "num3 = int(input('Please enter a number: '))\n",
    "\n",
    "if num1 > num2 and num1 > num3:\n",
    "    print(f\"{num1} is the biggest\")\n",
    "elif num2 > num1 and num2 > num3:\n",
    "    print(f\"{num2} is the biggest\")\n",
    "else:\n",
    "    print(f\"{num3} is the biggest\")\n"
   ]
  },
  {
   "cell_type": "code",
   "execution_count": 12,
   "metadata": {},
   "outputs": [
    {
     "name": "stdout",
     "output_type": "stream",
     "text": [
      "A+\n"
     ]
    }
   ],
   "source": [
    "score = int(input('Enter your score:'))\n",
    "\n",
    "if score >= 90:\n",
    "    if score >= 95:\n",
    "        print('A+')\n",
    "    else:\n",
    "        print('A')\n",
    "elif score >= 80:\n",
    "    if score >= 85:\n",
    "        print('B+')\n",
    "    else:\n",
    "        print('B')\n",
    "else:\n",
    "    print('B-')"
   ]
  }
 ],
 "metadata": {
  "kernelspec": {
   "display_name": "Python 3.10.5 64-bit",
   "language": "python",
   "name": "python3"
  },
  "language_info": {
   "codemirror_mode": {
    "name": "ipython",
    "version": 3
   },
   "file_extension": ".py",
   "mimetype": "text/x-python",
   "name": "python",
   "nbconvert_exporter": "python",
   "pygments_lexer": "ipython3",
   "version": "3.10.5"
  },
  "orig_nbformat": 4,
  "vscode": {
   "interpreter": {
    "hash": "fb4569285eef3a3450cb62085a5b1e0da4bce0af555edc33dcf29baf3acc1368"
   }
  }
 },
 "nbformat": 4,
 "nbformat_minor": 2
}
