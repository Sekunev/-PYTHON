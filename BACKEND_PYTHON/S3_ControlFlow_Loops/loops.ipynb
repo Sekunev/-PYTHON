{
 "cells": [
  {
   "cell_type": "code",
   "execution_count": 5,
   "metadata": {},
   "outputs": [
    {
     "name": "stdout",
     "output_type": "stream",
     "text": [
      "Pleae enter corret data\n",
      "Pleae enter corret data\n",
      "Your age is 45\n"
     ]
    }
   ],
   "source": [
    "age = input('Enter your age: ')\n",
    "\n",
    "\n",
    "while not age.isnumeric():  # (0-9)\n",
    "    print('Pleae enter corret data')\n",
    "    age = input('Enter your age: ')\n",
    "\n",
    "print(f'Your age is {age}')\n",
    "    "
   ]
  },
  {
   "cell_type": "code",
   "execution_count": 1,
   "metadata": {},
   "outputs": [
    {
     "name": "stdout",
     "output_type": "stream",
     "text": [
      "Seni dövcem nasıl beni geçersin\n",
      "Seni dövcem nasıl beni geçersin\n",
      "Aferinnnn\n"
     ]
    }
   ],
   "source": [
    "my_number = 15\n",
    "# is_true = True\n",
    "while True:  # while is_true:\n",
    "    your_number = int(input('Enter your number: '))\n",
    "    \n",
    "    if your_number > my_number:\n",
    "        print('Seni dövcem nasıl beni geçersin')\n",
    "    elif your_number < my_number:\n",
    "        print('nasıl geçemedin asıl şimdi dövcem')\n",
    "    else:\n",
    "        print('Aferinnnn')\n",
    "        break\n",
    "    "
   ]
  },
  {
   "cell_type": "code",
   "execution_count": 13,
   "metadata": {},
   "outputs": [
    {
     "name": "stdout",
     "output_type": "stream",
     "text": [
      "istanbul 8\n",
      "8\n",
      "ankara 6\n",
      "muşşşşşşşşşşşşşş 16\n",
      "16\n",
      "16\n"
     ]
    }
   ],
   "source": [
    "a = 'istanbul, ankara, muşşşşşşşşşşşşşş'\n",
    "word_list = a.split(', ')\n",
    "\n",
    "i = 0\n",
    "longest = 0\n",
    "\n",
    "while i < len(word_list):\n",
    "    print(word_list[i] , len(word_list[i]))\n",
    "    if len(word_list[i]) > longest:\n",
    "        longest = len(word_list[i])\n",
    "        print(longest)\n",
    "    i += 1\n",
    "print(longest)"
   ]
  },
  {
   "cell_type": "code",
   "execution_count": 16,
   "metadata": {},
   "outputs": [
    {
     "name": "stdout",
     "output_type": "stream",
     "text": [
      "[3]\n",
      "[3, 4]\n",
      "[3, 4, 5]\n",
      "[3, 4, 5, 6]\n",
      "[3, 4, 5, 6, 7]\n",
      "[3, 4, 5, 6, 7]\n"
     ]
    }
   ],
   "source": [
    "num_list = []\n",
    "\n",
    "for i in range(3, 8): # 1-5 / 3-7\n",
    "    num_list.append(i)\n",
    "    print(num_list)\n",
    "\n",
    "print(num_list)"
   ]
  },
  {
   "cell_type": "code",
   "execution_count": 32,
   "metadata": {},
   "outputs": [
    {
     "name": "stdout",
     "output_type": "stream",
     "text": [
      "c-l-a-r-u-s-w-a-y\n"
     ]
    }
   ],
   "source": [
    "input = 'clarusway'  # range(8)\n",
    "\n",
    "word = ''\n",
    "\n",
    "for i in range(len(input)): \n",
    "    if i == 0:\n",
    "        word += input[i]\n",
    "    else:\n",
    "        word += '-' + input[i]\n",
    "print(word)\n"
   ]
  },
  {
   "cell_type": "code",
   "execution_count": 7,
   "metadata": {},
   "outputs": [
    {
     "name": "stdout",
     "output_type": "stream",
     "text": [
      "Henry \\ Frstr \\ 38 \\ "
     ]
    }
   ],
   "source": [
    "user = {\n",
    "    'name': 'Henry',\n",
    "    'surname': 'Frstr',\n",
    "    'age': 38\n",
    "}\n",
    "\n",
    "for i in user.values():\n",
    "    print(i, end=' \\ ')"
   ]
  },
  {
   "cell_type": "code",
   "execution_count": 37,
   "metadata": {},
   "outputs": [
    {
     "name": "stdout",
     "output_type": "stream",
     "text": [
      "3 x 0 = 0\n",
      "3 x 1 = 3\n",
      "3 x 2 = 6\n",
      "3 x 3 = 9\n",
      "3 x 4 = 12\n",
      "3 x 5 = 15\n",
      "3 x 6 = 18\n",
      "3 x 7 = 21\n",
      "3 x 8 = 24\n",
      "3 x 9 = 27\n",
      "3 x 10 = 30\n"
     ]
    }
   ],
   "source": [
    "input = 3\n",
    "\n",
    "for i in range(11):\n",
    "    print(f'{input} x {i} = {input * i}')"
   ]
  },
  {
   "cell_type": "code",
   "execution_count": 40,
   "metadata": {},
   "outputs": [
    {
     "name": "stdout",
     "output_type": "stream",
     "text": [
      "[5, 10, 15, 20, 25]\n"
     ]
    }
   ],
   "source": [
    "a_list = list(range(5,26,5))\n",
    "print(a_list)"
   ]
  },
  {
   "cell_type": "code",
   "execution_count": 9,
   "metadata": {},
   "outputs": [
    {
     "name": "stdout",
     "output_type": "stream",
     "text": [
      "{1: 'bir', 2: 'iki', 3: 'üç'}\n"
     ]
    }
   ],
   "source": [
    "a = ['bir', 'iki', 'üç']\n",
    "b = [1, 2, 3]\n",
    "c = dict(zip(b, a))\n",
    "print(c)"
   ]
  },
  {
   "cell_type": "markdown",
   "metadata": {},
   "source": [
    "List Comprehensions\n",
    "( List Generators)\n",
    "\n",
    "[<expression> for <var> in <iterable>]\n",
    "\n",
    "[ <expression> for <var> in <iterable> if <condition> ]\n",
    "\n",
    "[<expr1> if <condition> else <expr2> for <var> in <iterable>]"
   ]
  },
  {
   "cell_type": "code",
   "execution_count": 12,
   "metadata": {},
   "outputs": [
    {
     "name": "stdout",
     "output_type": "stream",
     "text": [
      "[0, 2, 4, 6, 8, 10]\n"
     ]
    }
   ],
   "source": [
    "evens = [i for i in range(12) if i % 2 == 0]\n",
    "print(evens)"
   ]
  },
  {
   "cell_type": "code",
   "execution_count": 28,
   "metadata": {},
   "outputs": [
    {
     "name": "stdout",
     "output_type": "stream",
     "text": [
      "['Aisha', 'Ala']\n"
     ]
    }
   ],
   "source": [
    "names_a = []\n",
    "names = ['Python', \"Aisha\", \"Bulend\", 'Ala']\n",
    "\n",
    "result = [i for i in names if \"a\" in i.lower()]\n",
    "print(result)"
   ]
  },
  {
   "cell_type": "code",
   "execution_count": 23,
   "metadata": {},
   "outputs": [
    {
     "name": "stdout",
     "output_type": "stream",
     "text": [
      "['Aisha', 'Ala', 'Aisha', 'Ala']\n"
     ]
    }
   ],
   "source": [
    "for i in names:\n",
    "    if 'a' in i:\n",
    "        names_a.append(i)\n",
    "\n",
    "print(names_a)"
   ]
  },
  {
   "cell_type": "code",
   "execution_count": 31,
   "metadata": {},
   "outputs": [
    {
     "name": "stdout",
     "output_type": "stream",
     "text": [
      "[0, 1, 2, 9, 4, 25, 6, 49, 8, 81, 10]\n"
     ]
    }
   ],
   "source": [
    "cift_or_tek = []\n",
    "\n",
    "for i in range(11):\n",
    "    if i % 2 == 0:\n",
    "        cift_or_tek.append(i)\n",
    "    else:\n",
    "        cift_or_tek.append(i**2)\n",
    "print(cift_or_tek)"
   ]
  },
  {
   "cell_type": "code",
   "execution_count": 30,
   "metadata": {},
   "outputs": [
    {
     "name": "stdout",
     "output_type": "stream",
     "text": [
      "[0, 1, 2, 9, 4, 25, 6, 49, 8, 81, 10]\n"
     ]
    }
   ],
   "source": [
    "#list Copmrehensions\n",
    "cift_or_tek_list_c = [i if i % 2 == 0 else i**2 for i in range(11)]\n",
    "print(cift_or_tek_list_c)"
   ]
  },
  {
   "cell_type": "code",
   "execution_count": 32,
   "metadata": {},
   "outputs": [
    {
     "name": "stdout",
     "output_type": "stream",
     "text": [
      "[0, 1, 4, 9, 16, 25, 36, 49, 64, 81]\n"
     ]
    }
   ],
   "source": [
    "print(\n",
    "    [i**2 for i in range(10)]\n",
    ")"
   ]
  },
  {
   "cell_type": "code",
   "execution_count": 40,
   "metadata": {},
   "outputs": [
    {
     "name": "stdout",
     "output_type": "stream",
     "text": [
      "2775\n"
     ]
    }
   ],
   "source": [
    "    a = sum({i for i in range(75)})\n",
    "print(\n",
    "    a\n",
    ")"
   ]
  },
  {
   "cell_type": "code",
   "execution_count": 36,
   "metadata": {},
   "outputs": [
    {
     "data": {
      "text/plain": [
       "{' ', 'M', 'f', 'k', 'l', 'p', 'r', 's', 't'}"
      ]
     },
     "execution_count": 36,
     "metadata": {},
     "output_type": "execute_result"
    }
   ],
   "source": [
    "cumle = \"Mistakes are for people\"\n",
    "\n",
    "set(i for i in cumle if not i in \"aeiou\")"
   ]
  }
 ],
 "metadata": {
  "kernelspec": {
   "display_name": "Python 3.10.5 64-bit",
   "language": "python",
   "name": "python3"
  },
  "language_info": {
   "codemirror_mode": {
    "name": "ipython",
    "version": 3
   },
   "file_extension": ".py",
   "mimetype": "text/x-python",
   "name": "python",
   "nbconvert_exporter": "python",
   "pygments_lexer": "ipython3",
   "version": "3.10.5 (tags/v3.10.5:f377153, Jun  6 2022, 16:14:13) [MSC v.1929 64 bit (AMD64)]"
  },
  "orig_nbformat": 4,
  "vscode": {
   "interpreter": {
    "hash": "fb4569285eef3a3450cb62085a5b1e0da4bce0af555edc33dcf29baf3acc1368"
   }
  }
 },
 "nbformat": 4,
 "nbformat_minor": 2
}
