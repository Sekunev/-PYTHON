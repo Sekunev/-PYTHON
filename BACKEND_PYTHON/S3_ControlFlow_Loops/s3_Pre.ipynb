{
 "cells": [
  {
   "cell_type": "markdown",
   "metadata": {},
   "source": [
    "if-else"
   ]
  },
  {
   "cell_type": "markdown",
   "metadata": {},
   "source": [
    "\n",
    "Operator\tHow it works ?\tSample\n",
    "==\tReturns True if two values are equal or False if different\t2 == 2 (True), 2 == 3 (False)\n",
    "!=\tReturns True if two values are not equal or False if equal\t2 != 2 (False), 2 != 3 (True)\n",
    ">\tReturns True if the value on the left is greater than the value on the right otherwise returns False\t3 > 2 (True), 2 > 3 (False)\n",
    "<\tReturns True if the value on the left is less than the value on the right otherwise returns False\t2 < 3 (True), 3 < 2 (False)\n",
    ">=\tReturns True if the value on the left is greater than or equal to the value on the right otherwise returns False\t3 >= 2 (True), 3 >= 3 (True), 2 >= 3 (False)\n",
    "<=\tReturns True if the value on the left is less than or equal to the value on the right otherwise returns False\t3 <= 2 (False), 3 <= 3 (True), 2 <= 3 (True)"
   ]
  },
  {
   "cell_type": "code",
   "execution_count": 2,
   "metadata": {},
   "outputs": [
    {
     "name": "stdout",
     "output_type": "stream",
     "text": [
      "İt's true\n"
     ]
    }
   ],
   "source": [
    "if True:\n",
    "    print(\"İt's true\")"
   ]
  },
  {
   "cell_type": "code",
   "execution_count": 4,
   "metadata": {},
   "outputs": [
    {
     "name": "stdout",
     "output_type": "stream",
     "text": [
      "Kurs Adı nedir\n"
     ]
    }
   ],
   "source": [
    "course = \"claruswa\"\n",
    "if course==\"clarusway\":\n",
    "    print(\"benim kursum\")\n",
    "else:\n",
    "    print('Kurs Adı nedir')"
   ]
  },
  {
   "cell_type": "code",
   "execution_count": 8,
   "metadata": {},
   "outputs": [
    {
     "name": "stdout",
     "output_type": "stream",
     "text": [
      "uzun\n"
     ]
    }
   ],
   "source": [
    "uzunluk = 70\n",
    "\n",
    "if uzunluk > 50 :\n",
    "    print(\"uzun\")\n",
    "elif uzunluk == 50 :\n",
    "    print(\"iyi\")\n",
    "else :\n",
    "    print(\"kısa\")"
   ]
  },
  {
   "cell_type": "code",
   "execution_count": 11,
   "metadata": {},
   "outputs": [
    {
     "name": "stdout",
     "output_type": "stream",
     "text": [
      "The number is less than 10\n"
     ]
    }
   ],
   "source": [
    "number = -5\n",
    "\n",
    "if number >= 10 :\n",
    "    print(\"The number is equal or greater than 10\")\n",
    "else :\n",
    "    print(\"The number is less than 10\")"
   ]
  },
  {
   "cell_type": "markdown",
   "metadata": {},
   "source": [
    "'while' Loop"
   ]
  },
  {
   "cell_type": "code",
   "execution_count": 13,
   "metadata": {},
   "outputs": [
    {
     "name": "stdout",
     "output_type": "stream",
     "text": [
      "10\n",
      "11\n",
      "12\n",
      "13\n",
      "14\n"
     ]
    }
   ],
   "source": [
    "number = 10 \n",
    "while number < 15:\n",
    "    print(number)\n",
    "    number += 1\n",
    "# print(number)"
   ]
  },
  {
   "cell_type": "markdown",
   "metadata": {},
   "source": [
    "'for' Loop"
   ]
  },
  {
   "cell_type": "code",
   "execution_count": 4,
   "metadata": {},
   "outputs": [
    {
     "name": "stdout",
     "output_type": "stream",
     "text": [
      "1\n",
      "for\n",
      "2\n",
      "for\n",
      "3\n",
      "for\n"
     ]
    }
   ],
   "source": [
    "for i in [1,2,3]:\n",
    "    print(i)\n",
    "    print(\"for\")"
   ]
  },
  {
   "cell_type": "code",
   "execution_count": 5,
   "metadata": {},
   "outputs": [
    {
     "name": "stdout",
     "output_type": "stream",
     "text": [
      "n1\n",
      "n2\n"
     ]
    }
   ],
   "source": [
    "for i in {'n1' : 'one', 'n2' : 'two'} : print(i)"
   ]
  },
  {
   "cell_type": "code",
   "execution_count": 7,
   "metadata": {},
   "outputs": [
    {
     "name": "stdout",
     "output_type": "stream",
     "text": [
      "1 4 9 16 "
     ]
    }
   ],
   "source": [
    "iterable = [1, 2, 3, 4]\n",
    "\n",
    "for i in iterable:\n",
    "    print(i**2, end=\" \")"
   ]
  },
  {
   "cell_type": "code",
   "execution_count": 1,
   "metadata": {},
   "outputs": [
    {
     "name": "stdout",
     "output_type": "stream",
     "text": [
      "I love you\n",
      "I love you\n",
      "I love you\n"
     ]
    }
   ],
   "source": [
    "times = int(input(\"How many times should I say 'I love you'\"))\n",
    "\n",
    "for i in range(times):\n",
    "    print('I love you')"
   ]
  },
  {
   "cell_type": "code",
   "execution_count": 2,
   "metadata": {},
   "outputs": [
    {
     "name": "stdout",
     "output_type": "stream",
     "text": [
      "acıktım\n",
      "acıktım\n"
     ]
    }
   ],
   "source": [
    "kez = int(input(\"kaç kez\"))\n",
    "\n",
    "for i in range(kez):\n",
    "    print(\"acıktım\")"
   ]
  },
  {
   "cell_type": "code",
   "execution_count": 6,
   "metadata": {},
   "outputs": [
    {
     "name": "stdout",
     "output_type": "stream",
     "text": [
      "[11, 13, 15, 17, 19]\n"
     ]
    }
   ],
   "source": [
    "a = list(range(11,20,2))\n",
    "print(a)"
   ]
  },
  {
   "cell_type": "code",
   "execution_count": 10,
   "metadata": {},
   "outputs": [
    {
     "name": "stdout",
     "output_type": "stream",
     "text": [
      "one : 1\n",
      "two : 2\n",
      "three : 3\n",
      "four : 4\n",
      "five : 5\n"
     ]
    }
   ],
   "source": [
    "text = ['one','two','three','four','five']\n",
    "numbers = [1, 2, 3, 4, 5]\n",
    "for i, j in zip(text, numbers):\n",
    "    print(i,\":\",j)\n",
    "\n",
    "# zip()işlevi, yinelemelerin her birinden öğeleri toplayan bir yineleyici yapar."
   ]
  },
  {
   "cell_type": "code",
   "execution_count": 11,
   "metadata": {},
   "outputs": [
    {
     "name": "stdout",
     "output_type": "stream",
     "text": [
      "<zip object at 0x0000024688928C00>\n"
     ]
    }
   ],
   "source": [
    "print(zip(text, numbers))"
   ]
  },
  {
   "cell_type": "code",
   "execution_count": 12,
   "metadata": {},
   "outputs": [
    {
     "name": "stdout",
     "output_type": "stream",
     "text": [
      "I am  happy\n",
      "I am  confident\n",
      "You are  happy\n",
      "You are  confident\n"
     ]
    }
   ],
   "source": [
    "who = ['I am ', 'You are ']\n",
    "mood = ['happy', 'confident']\n",
    "\n",
    "for i in who:\n",
    "    for j in mood:\n",
    "        print(i,j)"
   ]
  },
  {
   "cell_type": "code",
   "execution_count": 7,
   "metadata": {},
   "outputs": [
    {
     "name": "stdout",
     "output_type": "stream",
     "text": [
      "0\n",
      "1\n",
      "4\n"
     ]
    }
   ],
   "source": [
    "number = int(input('Please enter a number: '))\n",
    "while number > 0:\n",
    "    for i in (range(number)):\n",
    "        print(i**2)\n",
    "    number =0\n",
    "# print(number)"
   ]
  }
 ],
 "metadata": {
  "kernelspec": {
   "display_name": "Python 3.10.5 64-bit",
   "language": "python",
   "name": "python3"
  },
  "language_info": {
   "codemirror_mode": {
    "name": "ipython",
    "version": 3
   },
   "file_extension": ".py",
   "mimetype": "text/x-python",
   "name": "python",
   "nbconvert_exporter": "python",
   "pygments_lexer": "ipython3",
   "version": "3.10.5"
  },
  "orig_nbformat": 4,
  "vscode": {
   "interpreter": {
    "hash": "fb4569285eef3a3450cb62085a5b1e0da4bce0af555edc33dcf29baf3acc1368"
   }
  }
 },
 "nbformat": 4,
 "nbformat_minor": 2
}
