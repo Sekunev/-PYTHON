{
 "cells": [
  {
   "cell_type": "code",
   "execution_count": 19,
   "metadata": {},
   "outputs": [],
   "source": [
    "# Code Challenge -6\n",
    "def decode(message):\n",
    "    message_len = len(message) # ?123\n",
    "\n",
    "  number_of_solutions   = [0] * (message_len + 1) # ?message uzunluğu kadar elemana sahip liste [0,0,0,0] \n",
    "    number_of_solutions[0] = 1 # ?[1,0,0,0] \n",
    "    number_of_solutions[1] = 1 # ?[1,1,0,0] \n",
    "    print(number_of_solutions)\n",
    "\n",
    "    for i in range(2, message_len+1):\n",
    "        print(i)\n",
    "        last_digit = int(message[i-1]) # 2,3\n",
    "        two_last_digits = int(message[(i-2):i]) # \"12\", \"23\"\n",
    "        # last_digit sıfırdan büyükse,\n",
    "        # çözüm sayısı aynı kalır\n",
    "        if (last_digit > 0):\n",
    "            number_of_solutions[i] = number_of_solutions[i - 1]  \n",
    "            print(number_of_solutions)\n",
    "\n",
    "        # Son iki hane 9 ile 27 arasındaysa,\n",
    "        # bu, ek bir çözüm grubuyla sonuçlanır.\n",
    "        # Böylece daha önce iki karakterden bir dizi çözüm eklenir.\n",
    "        if ((two_last_digits > 9) & (two_last_digits < 27)):  \n",
    "            number_of_solutions[i] += number_of_solutions[i - 2]  \n",
    "            print(number_of_solutions)\n",
    "\n",
    "\n",
    "    return number_of_solutions[-1]"
   ]
  },
  {
   "cell_type": "code",
   "execution_count": 20,
   "metadata": {},
   "outputs": [
    {
     "name": "stdout",
     "output_type": "stream",
     "text": [
      "[1, 1, 0, 0]\n",
      "2\n",
      "[1, 1, 1, 0]\n",
      "[1, 1, 2, 0]\n",
      "3\n",
      "[1, 1, 2, 2]\n",
      "[1, 1, 2, 3]\n"
     ]
    },
    {
     "data": {
      "text/plain": [
       "3"
      ]
     },
     "execution_count": 20,
     "metadata": {},
     "output_type": "execute_result"
    }
   ],
   "source": [
    "decode(\"123\")"
   ]
  },
  {
   "cell_type": "code",
   "execution_count": 1,
   "metadata": {},
   "outputs": [
    {
     "data": {
      "text/plain": [
       "[0, 0, 0, 0]"
      ]
     },
     "execution_count": 1,
     "metadata": {},
     "output_type": "execute_result"
    }
   ],
   "source": [
    " [0]*4"
   ]
  },
  {
   "cell_type": "code",
   "execution_count": 7,
   "metadata": {},
   "outputs": [
    {
     "name": "stdout",
     "output_type": "stream",
     "text": [
      "10\n",
      "[[1, [2, 3], 4], 7, 7, 8, 9]\n"
     ]
    }
   ],
   "source": [
    "L1 = []\n",
    "L1.append([1, [2, 3], 4])\n",
    "L1.append(7)\n",
    "L1.extend([7, 8, 9])\n",
    "print(L1[0][1][1] + L1[2])\n",
    "print(L1)"
   ]
  },
  {
   "cell_type": "code",
   "execution_count": null,
   "metadata": {},
   "outputs": [],
   "source": []
  }
 ],
 "metadata": {
  "kernelspec": {
   "display_name": "Python 3",
   "language": "python",
   "name": "python3"
  },
  "language_info": {
   "codemirror_mode": {
    "name": "ipython",
    "version": 3
   },
   "file_extension": ".py",
   "mimetype": "text/x-python",
   "name": "python",
   "nbconvert_exporter": "python",
   "pygments_lexer": "ipython3",
   "version": "3.10.5 (tags/v3.10.5:f377153, Jun  6 2022, 16:14:13) [MSC v.1929 64 bit (AMD64)]"
  },
  "orig_nbformat": 4,
  "vscode": {
   "interpreter": {
    "hash": "fb4569285eef3a3450cb62085a5b1e0da4bce0af555edc33dcf29baf3acc1368"
   }
  }
 },
 "nbformat": 4,
 "nbformat_minor": 2
}
